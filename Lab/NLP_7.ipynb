{
  "nbformat": 4,
  "nbformat_minor": 0,
  "metadata": {
    "colab": {
      "provenance": []
    },
    "kernelspec": {
      "name": "python3",
      "display_name": "Python 3"
    },
    "language_info": {
      "name": "python"
    }
  },
  "cells": [
    {
      "cell_type": "markdown",
      "source": [
        "Q7) Write a better auto-complete algorithm using an N-gram model (similar models are used for\n",
        "translation, determining the author of a text, and speech recognition)"
      ],
      "metadata": {
        "id": "oDXvcj5OxlEw"
      }
    },
    {
      "cell_type": "code",
      "execution_count": null,
      "metadata": {
        "colab": {
          "base_uri": "https://localhost:8080/"
        },
        "id": "uqE7kEldufcL",
        "outputId": "91580c00-57a2-4c93-c0ab-c25f682d43b9"
      },
      "outputs": [
        {
          "output_type": "stream",
          "name": "stdout",
          "text": [
            "Requirement already satisfied: nltk in /usr/local/lib/python3.11/dist-packages (3.9.1)\n",
            "Requirement already satisfied: click in /usr/local/lib/python3.11/dist-packages (from nltk) (8.1.8)\n",
            "Requirement already satisfied: joblib in /usr/local/lib/python3.11/dist-packages (from nltk) (1.4.2)\n",
            "Requirement already satisfied: regex>=2021.8.3 in /usr/local/lib/python3.11/dist-packages (from nltk) (2024.11.6)\n",
            "Requirement already satisfied: tqdm in /usr/local/lib/python3.11/dist-packages (from nltk) (4.67.1)\n"
          ]
        }
      ],
      "source": [
        "!pip install nltk"
      ]
    },
    {
      "cell_type": "code",
      "source": [
        "import nltk\n",
        "from nltk.util import ngrams\n",
        "from nltk import FreqDist\n",
        "from collections import defaultdict\n",
        "\n",
        "# Download required NLTK resources\n",
        "nltk.download('punkt')\n",
        "nltk.download('punkt_tab')\n",
        "\n",
        "# Step 1: Process text by tokenizing and cleaning\n",
        "def preprocess_text(text):\n",
        "    # Convert text to lowercase and split into tokens\n",
        "    tokens = nltk.word_tokenize(text.lower())\n",
        "    return tokens\n",
        "\n",
        "# Step 2: Create N-grams (trigrams in this case)\n",
        "def generate_ngrams(text, n=3):\n",
        "    tokens = preprocess_text(text)\n",
        "    n_grams = list(ngrams(tokens, n))\n",
        "    return n_grams\n",
        "\n",
        "# Step 3: Construct a frequency model for N-grams\n",
        "def build_ngram_model(corpus, n=3):\n",
        "    ngram_model = defaultdict(FreqDist)\n",
        "    for text in corpus:\n",
        "        n_grams = generate_ngrams(text, n)\n",
        "        for ngram in n_grams:\n",
        "            prefix = ngram[:-1]\n",
        "            next_word = ngram[-1]\n",
        "            ngram_model[prefix][next_word] += 1\n",
        "    return ngram_model\n",
        "\n",
        "# Step 4: Suggest the most probable next word\n",
        "def predict_next_word(prefix, ngram_model, n=3):\n",
        "    prefix = tuple(preprocess_text(prefix)[-n+1:])  # Consider only the last n-1 words\n",
        "    if prefix in ngram_model:\n",
        "        # Retrieve the most likely next word\n",
        "        next_word = ngram_model[prefix].max()\n",
        "        return next_word\n",
        "    else:\n",
        "        return \"No suggestion available\"\n",
        "\n",
        "\n",
        "# Sample dataset for training the model\n",
        "corpus = [\n",
        "    \"I enjoy coding in Python\",\n",
        "    \"Python is a powerful tool for data analysis\",\n",
        "    \"I find machine learning interesting\",\n",
        "    \"Machine learning is an evolving discipline\",\n",
        "    \"I like exploring new concepts\"\n",
        "]\n",
        "\n",
        "# Step 5: Train the trigram model\n",
        "ngram_model = build_ngram_model(corpus, n=3)\n",
        "\n",
        "# Step 6: Accept user input for word prediction\n",
        "while True:\n",
        "    input_text = input(\"Type a phrase (or 'quit' to stop): \").strip()\n",
        "    if input_text.lower() == \"quit\":\n",
        "        print(\"Closing the program...\")\n",
        "        break\n",
        "    print(f\"Your input: {input_text}\")\n",
        "    prediction = predict_next_word(input_text, ngram_model, n=3)\n",
        "    print(f\"Suggested next word: {prediction}\")"
      ],
      "metadata": {
        "colab": {
          "base_uri": "https://localhost:8080/"
        },
        "id": "011yZRm-u1MW",
        "outputId": "ad25ff23-8251-4d8f-8161-a952af63baaa"
      },
      "execution_count": 1,
      "outputs": [
        {
          "output_type": "stream",
          "name": "stderr",
          "text": [
            "[nltk_data] Downloading package punkt to /root/nltk_data...\n",
            "[nltk_data]   Unzipping tokenizers/punkt.zip.\n",
            "[nltk_data] Downloading package punkt_tab to /root/nltk_data...\n",
            "[nltk_data]   Unzipping tokenizers/punkt_tab.zip.\n"
          ]
        },
        {
          "output_type": "stream",
          "name": "stdout",
          "text": [
            "Type a phrase (or 'quit' to stop): I enjoy\n",
            "Your input: I enjoy\n",
            "Suggested next word: coding\n",
            "Type a phrase (or 'quit' to stop): Python is\n",
            "Your input: Python is\n",
            "Suggested next word: a\n",
            "Type a phrase (or 'quit' to stop): Coding in\n",
            "Your input: Coding in\n",
            "Suggested next word: python\n",
            "Type a phrase (or 'quit' to stop): New concepts\n",
            "Your input: New concepts\n",
            "Suggested next word: No suggestion available\n",
            "Type a phrase (or 'quit' to stop): quit\n",
            "Closing the program...\n"
          ]
        }
      ]
    }
  ]
}