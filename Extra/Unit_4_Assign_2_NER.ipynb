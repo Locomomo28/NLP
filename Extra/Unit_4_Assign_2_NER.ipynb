{
  "nbformat": 4,
  "nbformat_minor": 0,
  "metadata": {
    "colab": {
      "provenance": []
    },
    "kernelspec": {
      "name": "python3",
      "display_name": "Python 3"
    },
    "language_info": {
      "name": "python"
    }
  },
  "cells": [
    {
      "cell_type": "markdown",
      "source": [
        "Lab Assignment 2: Named Entity Recognition (NER) using spaCy\n",
        "•\tLoad a dataset containing text (news articles, Wikipedia snippets, etc.).\n",
        "•\tUse spaCy to perform Named Entity Recognition (NER).\n",
        "•\tExtract and classify named entities (Person, Organization, Date, etc.).\n",
        "•\tVisualize the extracted entities using displaCy."
      ],
      "metadata": {
        "id": "T3gPfRMJ2pIg"
      }
    },
    {
      "cell_type": "code",
      "execution_count": null,
      "metadata": {
        "id": "WcQ0r7gW2iRa"
      },
      "outputs": [],
      "source": [
        "!pip install -U spacy\n",
        "!python -m spacy download en_core_web_sm"
      ]
    },
    {
      "cell_type": "code",
      "source": [
        "# Step 3: Import libraries and load spaCy model\n",
        "import spacy\n",
        "from spacy import displacy\n",
        "\n",
        "# Load the English NLP model\n",
        "nlp = spacy.load(\"en_core_web_sm\")\n",
        "\n",
        "# Step 4: Load or define a small dataset (news articles / Wikipedia snippets)\n",
        "# You can replace these with actual dataset lines if needed\n",
        "texts = [\n",
        "    \"Apple Inc. is planning to open a new office in Seattle in 2024.\",\n",
        "    \"Barack Obama was born on August 4, 1961 in Honolulu, Hawaii.\",\n",
        "    \"Google was founded by Larry Page and Sergey Brin while they were Ph.D. students at Stanford University.\",\n",
        "    \"The World Health Organization declared COVID-19 a pandemic on March 11, 2020.\",\n",
        "    \"Elon Musk's SpaceX successfully launched the Falcon Heavy rocket from Cape Canaveral.\"\n",
        "]\n",
        "\n",
        "# Step 5: Perform Named Entity Recognition on each text\n",
        "for i, text in enumerate(texts):\n",
        "    print(f\"\\n--- Document {i+1} ---\")\n",
        "    doc = nlp(text)\n",
        "    for ent in doc.ents:\n",
        "        print(f\"{ent.text} ({ent.label_})\")\n",
        "\n",
        "# Step 6: Visualize named entities using displaCy\n",
        "from IPython.core.display import display, HTML\n",
        "\n",
        "# Visualize one example text\n",
        "doc = nlp(texts[3])\n",
        "\n",
        "# Render in Jupyter (Colab) notebook\n",
        "displacy.render(doc, style=\"ent\", jupyter=True)"
      ],
      "metadata": {
        "colab": {
          "base_uri": "https://localhost:8080/",
          "height": 520
        },
        "id": "js2ilvn_3D7c",
        "outputId": "6b031fbc-cfd0-4f90-c33e-b3c52fff13a0"
      },
      "execution_count": 3,
      "outputs": [
        {
          "output_type": "stream",
          "name": "stdout",
          "text": [
            "\n",
            "--- Document 1 ---\n",
            "Apple Inc. (ORG)\n",
            "Seattle (GPE)\n",
            "2024 (DATE)\n",
            "\n",
            "--- Document 2 ---\n",
            "Barack Obama (PERSON)\n",
            "August 4, 1961 (DATE)\n",
            "Honolulu (GPE)\n",
            "Hawaii (GPE)\n",
            "\n",
            "--- Document 3 ---\n",
            "Google (ORG)\n",
            "Larry Page (PERSON)\n",
            "Sergey Brin (PERSON)\n",
            "Ph.D. (WORK_OF_ART)\n",
            "Stanford University (ORG)\n",
            "\n",
            "--- Document 4 ---\n",
            "The World Health Organization (ORG)\n",
            "March 11, 2020 (DATE)\n",
            "\n",
            "--- Document 5 ---\n",
            "Elon Musk's (PERSON)\n",
            "Falcon Heavy (ORG)\n",
            "Cape Canaveral (GPE)\n"
          ]
        },
        {
          "output_type": "display_data",
          "data": {
            "text/plain": [
              "<IPython.core.display.HTML object>"
            ],
            "text/html": [
              "<span class=\"tex2jax_ignore\"><div class=\"entities\" style=\"line-height: 2.5; direction: ltr\">\n",
              "<mark class=\"entity\" style=\"background: #7aecec; padding: 0.45em 0.6em; margin: 0 0.25em; line-height: 1; border-radius: 0.35em;\">\n",
              "    The World Health Organization\n",
              "    <span style=\"font-size: 0.8em; font-weight: bold; line-height: 1; border-radius: 0.35em; vertical-align: middle; margin-left: 0.5rem\">ORG</span>\n",
              "</mark>\n",
              " declared COVID-19 a pandemic on \n",
              "<mark class=\"entity\" style=\"background: #bfe1d9; padding: 0.45em 0.6em; margin: 0 0.25em; line-height: 1; border-radius: 0.35em;\">\n",
              "    March 11, 2020\n",
              "    <span style=\"font-size: 0.8em; font-weight: bold; line-height: 1; border-radius: 0.35em; vertical-align: middle; margin-left: 0.5rem\">DATE</span>\n",
              "</mark>\n",
              ".</div></span>"
            ]
          },
          "metadata": {}
        }
      ]
    }
  ]
}