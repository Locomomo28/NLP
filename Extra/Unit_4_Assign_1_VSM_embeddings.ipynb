{
  "nbformat": 4,
  "nbformat_minor": 0,
  "metadata": {
    "colab": {
      "provenance": []
    },
    "kernelspec": {
      "name": "python3",
      "display_name": "Python 3"
    },
    "language_info": {
      "name": "python"
    }
  },
  "cells": [
    {
      "cell_type": "markdown",
      "source": [
        " Lab Assignment 1: Implementing the Vector Space Model for Information Retrieval\n",
        "•\tImplement a simple search engine using the TF-IDF vectorization method.\n",
        "•\tUse a small dataset of documents and allow the user to input a query.\n",
        "•\tCompute cosine similarity to retrieve the most relevant documents.\n",
        "•\tUse Scikit-learn’s TfidfVectorizer for vectorization."
      ],
      "metadata": {
        "id": "051JUkO81_iP"
      }
    },
    {
      "cell_type": "code",
      "execution_count": 1,
      "metadata": {
        "colab": {
          "base_uri": "https://localhost:8080/"
        },
        "id": "uY7WB8GV11_9",
        "outputId": "574d5ad9-abb1-4d34-9336-8be0ee0c241d"
      },
      "outputs": [
        {
          "output_type": "stream",
          "name": "stdout",
          "text": [
            "Enter your search query: How is the sky\n",
            "\n",
            "Top Relevant Documents:\n",
            "Score: 0.6914 | Document: The sky is blue and beautiful.\n",
            "Score: 0.6621 | Document: The sky is very blue and the sky is very beautiful today\n",
            "Score: 0.5199 | Document: The brown fox is quick and the blue dog is lazy!\n",
            "Score: 0.5058 | Document: The dog is lazy but the brown fox is quick.\n",
            "Score: 0.2385 | Document: Love this blue and bright sky!\n",
            "Score: 0.2334 | Document: The quick brown fox jumps over the lazy dog.\n",
            "No more relevant documents.\n"
          ]
        }
      ],
      "source": [
        "# Step 1: Import required libraries\n",
        "from sklearn.feature_extraction.text import TfidfVectorizer\n",
        "from sklearn.metrics.pairwise import cosine_similarity\n",
        "import numpy as np\n",
        "\n",
        "# Step 2: Define your small dataset of documents\n",
        "documents = [\n",
        "    \"The sky is blue and beautiful.\",\n",
        "    \"Love this blue and bright sky!\",\n",
        "    \"The quick brown fox jumps over the lazy dog.\",\n",
        "    \"A king's breakfast has sausages, ham, bacon, eggs, toast and beans\",\n",
        "    \"I love green eggs, ham, sausages and bacon!\",\n",
        "    \"The brown fox is quick and the blue dog is lazy!\",\n",
        "    \"The sky is very blue and the sky is very beautiful today\",\n",
        "    \"The dog is lazy but the brown fox is quick.\"\n",
        "]\n",
        "\n",
        "# Step 3: Preprocessing (optional - lowercase, etc.)\n",
        "processed_docs = [doc.lower() for doc in documents]\n",
        "\n",
        "# Step 4: Vectorize using TF-IDF\n",
        "vectorizer = TfidfVectorizer()\n",
        "tfidf_matrix = vectorizer.fit_transform(processed_docs)\n",
        "\n",
        "# Step 5: Accept user query\n",
        "query = input(\"Enter your search query: \").lower()\n",
        "\n",
        "# Step 6: Vectorize the query using the same vectorizer\n",
        "query_vector = vectorizer.transform([query])\n",
        "\n",
        "# Step 7: Compute cosine similarity\n",
        "cos_similarities = cosine_similarity(query_vector, tfidf_matrix).flatten()\n",
        "\n",
        "# Step 8: Rank documents based on similarity score\n",
        "top_doc_indices = cos_similarities.argsort()[::-1]\n",
        "\n",
        "# Step 9: Display results\n",
        "print(\"\\nTop Relevant Documents:\")\n",
        "for idx in top_doc_indices:\n",
        "    score = cos_similarities[idx]\n",
        "    if score > 0:\n",
        "        print(f\"Score: {score:.4f} | Document: {documents[idx]}\")\n",
        "    else:\n",
        "        print(\"No more relevant documents.\")\n",
        "        break"
      ]
    }
  ]
}